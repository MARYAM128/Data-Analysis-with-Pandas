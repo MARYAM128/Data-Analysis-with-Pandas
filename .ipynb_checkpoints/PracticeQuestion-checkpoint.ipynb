{
 "cells": [
  {
   "cell_type": "code",
   "execution_count": null,
   "id": "56955f32-4fa9-47e4-b7d6-bc402c2d06be",
   "metadata": {},
   "outputs": [
    {
     "name": "stdout",
     "output_type": "stream",
     "text": [
      "What is 5 + 7?\n",
      "  1. 10\n",
      "  2. 11\n",
      "  3. 12\n",
      "  4. 13\n"
     ]
    }
   ],
   "source": [
    "\n",
    "questions = [\n",
    "    (\"What is 5 + 7?\", [\"10\", \"11\", \"12\", \"13\"], 3),\n",
    "    (\"What is 8 - 3?\", [\"5\", \"4\", \"6\", \"7\"], 1),\n",
    "    (\"What is 4 x 6?\", [\"20\", \"22\", \"24\", \"26\"], 3),\n",
    "    (\"What is 16 ÷ 4?\", [\"3\", \"4\", \"5\", \"6\"], 2),\n",
    "    (\"What is the value of 9 + 8?\", [\"15\", \"16\", \"17\", \"18\"], 3),\n",
    "    (\"What is 12 + 9?\", [\"20\", \"21\", \"22\", \"23\"], 2),\n",
    "    (\"What is 15 - 6?\", [\"7\", \"8\", \"9\", \"10\"], 3),\n",
    "    (\"What is 3 x 7?\", [\"20\", \"21\", \"22\", \"23\"], 2),\n",
    "    (\"What is 18 ÷ 2?\", [\"7\", \"8\", \"9\", \"10\"], 3),\n",
    "    (\"What is 5 x 5?\", [\"20\", \"25\", \"30\", \"35\"], 2)\n",
    "]\n",
    "\n",
    "score = 0\n",
    "\n",
    "for q, opts, ans in questions:\n",
    "    print(q)\n",
    "    for i, opt in enumerate(opts, 1):\n",
    "        print(f\"  {i}. {opt}\")\n",
    "    if int(input(\"Your answer: \")) == ans:\n",
    "        score += 1\n",
    "\n",
    "print(f\"Your score: {score}/10\")\n",
    "\n"
   ]
  },
  {
   "cell_type": "code",
   "execution_count": null,
   "id": "81afc08d-be47-4f9f-a8d9-f3070f41e592",
   "metadata": {},
   "outputs": [],
   "source": [
    "def binary_search(list, num):\n",
    "    list.sort()\n",
    "    left, right =0 , len(list)-1\n",
    "\n",
    "    while  left <= right:\n",
    "       mid = left + right //2\n",
    "       if list[mid] == num:\n",
    "        print(f\"found {num} at index {mid}\")\n",
    "       elif list[mid] <= num:\n",
    "       eft  = mid+1\n",
    "       else:\n",
    "        mid = mid - 1\n",
    "    "
   ]
  }
 ],
 "metadata": {
  "kernelspec": {
   "display_name": "Python [conda env:base] *",
   "language": "python",
   "name": "conda-base-py"
  },
  "language_info": {
   "codemirror_mode": {
    "name": "ipython",
    "version": 3
   },
   "file_extension": ".py",
   "mimetype": "text/x-python",
   "name": "python",
   "nbconvert_exporter": "python",
   "pygments_lexer": "ipython3",
   "version": "3.12.7"
  }
 },
 "nbformat": 4,
 "nbformat_minor": 5
}
