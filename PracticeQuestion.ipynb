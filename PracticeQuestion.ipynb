{
 "cells": [
  {
   "cell_type": "code",
   "execution_count": 13,
   "id": "81afc08d-be47-4f9f-a8d9-f3070f41e592",
   "metadata": {},
   "outputs": [
    {
     "name": "stdout",
     "output_type": "stream",
     "text": [
      "found 7 at index 6\n"
     ]
    }
   ],
   "source": [
    "def binary_search(list, num):\n",
    "    list.sort()\n",
    "    left, right = 0 , len(list)-1\n",
    "\n",
    "    while  left <= right:\n",
    "       mid = (left + right) //2\n",
    "       if list[mid] == num:\n",
    "          print(f\"found {num} at index {mid}\")\n",
    "          return\n",
    "       elif list[mid] < num:\n",
    "          left  = mid+1\n",
    "       else:\n",
    "          right= mid - 1\n",
    "    print(\"number not found\")\n",
    "binary_search([1,2,3,4,5,6,7],7)"
   ]
  },
  {
   "cell_type": "code",
   "execution_count": 20,
   "id": "b29ff659-caaf-4f01-885d-0af6e9e5337c",
   "metadata": {},
   "outputs": [
    {
     "name": "stdout",
     "output_type": "stream",
     "text": [
      "[1, 5, 6, 7, 8, 9, 9, 10, 11, 12]\n"
     ]
    }
   ],
   "source": [
    "def sorted_lists(list1, list2):\n",
    "    merge_list = []\n",
    "    i, j = 0, 0   \n",
    "\n",
    "    # Merging both lists\n",
    "    while i < len(list1) and j < len(list2):\n",
    "        if list1[i] < list2[j]:\n",
    "            merge_list.append(list1[i])\n",
    "            i += 1\n",
    "        else:\n",
    "            merge_list.append(list2[j])\n",
    "            j += 1\n",
    "\n",
    " \n",
    "    while i < len(list1):\n",
    "        merge_list.append(list1[i])\n",
    "        i += 1\n",
    "\n",
    "    \n",
    "    while j < len(list2):\n",
    "        merge_list.append(list2[j])\n",
    "        j += 1\n",
    "\n",
    "    return merge_list\n",
    "\n",
    "\n",
    "result = sorted_lists([1, 5, 7, 9, 10, 11, 12], [6, 8, 9])\n",
    "print(result)\n",
    "\n",
    "    "
   ]
  },
  {
   "cell_type": "code",
   "execution_count": 28,
   "id": "a54792ff-b9d5-405e-8201-9262c6cc188e",
   "metadata": {},
   "outputs": [
    {
     "name": "stdout",
     "output_type": "stream",
     "text": [
      "120\n"
     ]
    }
   ],
   "source": [
    "def factorial(num):\n",
    "    if num == 1:\n",
    "        return 1\n",
    "    else:\n",
    "        return num * power(num-1)\n",
    "\n",
    "print(power(5))\n"
   ]
  },
  {
   "cell_type": "code",
   "execution_count": 15,
   "id": "674c3580-4359-4e3b-a8f8-c8a5904d9142",
   "metadata": {},
   "outputs": [
    {
     "name": "stdin",
     "output_type": "stream",
     "text": [
      "enter base 5\n",
      "enter power 3\n"
     ]
    },
    {
     "data": {
      "text/plain": [
       "125"
      ]
     },
     "execution_count": 15,
     "metadata": {},
     "output_type": "execute_result"
    }
   ],
   "source": [
    "def power_fun(base,power):\n",
    "    if power == 0:\n",
    "        return 1\n",
    "    else :\n",
    "        num = base*power_fun(base ,power -1)\n",
    "        \n",
    "    return num\n",
    "\n",
    "power_fun(int(input(\"enter base\")),int(input(\"enter power\")))  \n",
    "        "
   ]
  },
  {
   "cell_type": "code",
   "execution_count": null,
   "id": "5cb25439-8077-4d64-9513-ab86c4ca4bd5",
   "metadata": {},
   "outputs": [],
   "source": []
  }
 ],
 "metadata": {
  "kernelspec": {
   "display_name": "Python [conda env:base] *",
   "language": "python",
   "name": "conda-base-py"
  },
  "language_info": {
   "codemirror_mode": {
    "name": "ipython",
    "version": 3
   },
   "file_extension": ".py",
   "mimetype": "text/x-python",
   "name": "python",
   "nbconvert_exporter": "python",
   "pygments_lexer": "ipython3",
   "version": "3.12.7"
  }
 },
 "nbformat": 4,
 "nbformat_minor": 5
}
